{
 "cells": [
  {
   "cell_type": "markdown",
   "id": "d20b3326-d18f-472c-bbc4-a0472903178c",
   "metadata": {},
   "source": [
    "# INFORME 3 - Rodriguez María Eugenia."
   ]
  },
  {
   "cell_type": "markdown",
   "id": "759f0e35-dcf3-462d-a890-559796f48206",
   "metadata": {},
   "source": [
    "### 1. Introducción."
   ]
  },
  {
   "cell_type": "markdown",
   "id": "beece8ac-f512-4a5f-bc7b-fae443f3af65",
   "metadata": {},
   "source": [
    "Debido a que las nuevas tecnologías aportan cantidades significativas de datos, se hace imperiosa la necesidad\n",
    "de almacenar los mismos de manera que su acceso sea eficiente y  ́util. En general, la información de grandes\n",
    "relevamientos, simulaciones numéricas, etc. está organizada en Bases de Datos. Uno de los paradigmas más\n",
    "utilizado para organizar bases de datos es el de Base de Datos Relacional. En este tipo de modelo la información\n",
    "se organiza en tablas, que se relacionan entre sí a partir de una propiedad de los datos. Cada tabla es un conjunto\n",
    "de registros. Existen programas o sistemas de gestión de bases de datos relacionales. Entre los más conocidos, se\n",
    "destacan por ejemplo MySQL, PostgreSQL, Oracle y Microsoft SQL Server. Recientemente se\n",
    "desarrolló el Software SciDB, que está preparado para manipular información científica. \n",
    "\n",
    "Uno de los lenguajes m ́as utilizados para manipular y acceder a bases de datos es el denominado SQL (Structured\n",
    "Query Languaje). Con este lenguaje se pueden crear, modificar y consultar bases de datos.\n",
    "\n",
    "En este informe trabajamos con un cat ́alogo de exoplanetas de la base de datos exoplanets.eu, donde identificamos los elementos principales de la base de datos, como tablas, campos y registros; comprendimos el uso de las instrucciones 'select', 'from' y 'where', y corrimos varios querys analizando los datos que devuelve."
   ]
  },
  {
   "cell_type": "markdown",
   "id": "f28c5cb5-5b45-4711-8e5e-14f88ddf9352",
   "metadata": {},
   "source": [
    "### 2. Desarrollo y resultados."
   ]
  },
  {
   "cell_type": "markdown",
   "id": "a096cc04-64fd-4f92-ba9a-1c4309e7703d",
   "metadata": {},
   "source": [
    "#### 2.1. Distribución de índices de masas y periodos orbitales de exoplanetas."
   ]
  },
  {
   "cell_type": "markdown",
   "id": "75c441cd-d570-4c60-a3b5-ea25e5f7084b",
   "metadata": {},
   "source": [
    "Estudiamos la distribución de índices de masas y periodos orbitales para exoplanetas encontrados con diferentes técnicas observacionales. Para esto corrimos un query, seleccionando de la base de datos exoplanets.eu, el nombre del objeto, el tipo de detección utilizado, su masa y periodo, y el tipo espectral de la estrella que lo alberga, con la condición de que la masa de los objetos sea menor a 15 masas de Júpiter (Mjup) de tal manera que estemos en el límite con la masa considerada de las enanas marrones, y un periodo y distancia a la estrella positivos. \n"
   ]
  },
  {
   "cell_type": "markdown",
   "id": "6e4cb350-5cf7-4f77-8f78-14ec7eae95fc",
   "metadata": {},
   "source": [
    "Guíandonos con el tutorial de la base de datos mencionada es como procedimos a realizar el trabajo. En referencias se encuentra el mismo (3)"
   ]
  },
  {
   "cell_type": "code",
   "execution_count": 1,
   "id": "326a8f39-a80d-4920-ad0b-9fed41442762",
   "metadata": {},
   "outputs": [],
   "source": [
    "import pyvo\n",
    "service = pyvo.dal.TAPService(\"http://voparis-tap-planeto.obspm.fr/tap\")\n",
    "#para conectarnos con el servidor que vamos a utilizar."
   ]
  },
  {
   "cell_type": "code",
   "execution_count": 2,
   "id": "7aa6a305-3033-455b-a40a-957b2793c4f5",
   "metadata": {},
   "outputs": [],
   "source": [
    "#extraemos los datos que necesitamos de la base de datos exoplanet.eu con las condiciones indicadas. \n",
    "query = \"\"\"SELECT obs_id, detection_type, mass, period, star_spec_type, granule_uid\n",
    "FROM exoplanet.epn_core \n",
    "WHERE mass<15 AND period>0 AND star_distance>0 \"\"\""
   ]
  },
  {
   "cell_type": "code",
   "execution_count": 3,
   "id": "38afd6b1-d212-4d0a-a4fb-a9fb2af89f22",
   "metadata": {},
   "outputs": [],
   "source": [
    "results = service.search(query)"
   ]
  },
  {
   "cell_type": "code",
   "execution_count": 4,
   "id": "a2a067c4-d5e3-4e07-8db0-f78e8d633a54",
   "metadata": {},
   "outputs": [
    {
     "data": {
      "text/plain": [
       "pyvo.dal.tap.TAPResults"
      ]
     },
     "execution_count": 4,
     "metadata": {},
     "output_type": "execute_result"
    }
   ],
   "source": [
    "type(results)"
   ]
  },
  {
   "cell_type": "code",
   "execution_count": 5,
   "id": "0e2e4a7e-6c52-4c96-b0e4-c3423ceb5f94",
   "metadata": {},
   "outputs": [],
   "source": [
    "import pandas as pd"
   ]
  },
  {
   "cell_type": "code",
   "execution_count": 6,
   "id": "290d2f0f-adfb-45fa-b96c-557605c9b730",
   "metadata": {},
   "outputs": [],
   "source": [
    "#transformo en tabla de astropy.\n",
    "table=results.to_table() "
   ]
  },
  {
   "cell_type": "code",
   "execution_count": 7,
   "id": "38b15e06-a9d3-48f5-aed0-272cd12b38b9",
   "metadata": {},
   "outputs": [
    {
     "data": {
      "text/plain": [
       "astropy.table.table.Table"
      ]
     },
     "execution_count": 7,
     "metadata": {},
     "output_type": "execute_result"
    }
   ],
   "source": [
    "type(table)"
   ]
  },
  {
   "cell_type": "code",
   "execution_count": 8,
   "id": "0131ca71-8cb2-440d-9556-77bfef4223ae",
   "metadata": {},
   "outputs": [],
   "source": [
    "#transformo en DatFrame de pandas.\n",
    "df=table.to_pandas()"
   ]
  },
  {
   "cell_type": "code",
   "execution_count": 9,
   "id": "25757b09-eb8f-4e96-9130-ebb592b924c5",
   "metadata": {},
   "outputs": [
    {
     "data": {
      "text/plain": [
       "pandas.core.frame.DataFrame"
      ]
     },
     "execution_count": 9,
     "metadata": {},
     "output_type": "execute_result"
    }
   ],
   "source": [
    "type(df)"
   ]
  },
  {
   "cell_type": "code",
   "execution_count": 10,
   "id": "ae219006-291e-4de3-8447-64aa2e9df854",
   "metadata": {},
   "outputs": [
    {
     "data": {
      "text/html": [
       "<div>\n",
       "<style scoped>\n",
       "    .dataframe tbody tr th:only-of-type {\n",
       "        vertical-align: middle;\n",
       "    }\n",
       "\n",
       "    .dataframe tbody tr th {\n",
       "        vertical-align: top;\n",
       "    }\n",
       "\n",
       "    .dataframe thead th {\n",
       "        text-align: right;\n",
       "    }\n",
       "</style>\n",
       "<table border=\"1\" class=\"dataframe\">\n",
       "  <thead>\n",
       "    <tr style=\"text-align: right;\">\n",
       "      <th></th>\n",
       "      <th>obs_id</th>\n",
       "      <th>detection_type</th>\n",
       "      <th>mass</th>\n",
       "      <th>period</th>\n",
       "      <th>star_spec_type</th>\n",
       "      <th>granule_uid</th>\n",
       "    </tr>\n",
       "  </thead>\n",
       "  <tbody>\n",
       "    <tr>\n",
       "      <th>0</th>\n",
       "      <td>77</td>\n",
       "      <td>Radial Velocity</td>\n",
       "      <td>9.10000</td>\n",
       "      <td>1763.300000</td>\n",
       "      <td>K0 V</td>\n",
       "      <td>14 Her b</td>\n",
       "    </tr>\n",
       "    <tr>\n",
       "      <th>1</th>\n",
       "      <td>309</td>\n",
       "      <td>Radial Velocity</td>\n",
       "      <td>6.90000</td>\n",
       "      <td>52596.000000</td>\n",
       "      <td>K0 V</td>\n",
       "      <td>14 Her c</td>\n",
       "    </tr>\n",
       "    <tr>\n",
       "      <th>2</th>\n",
       "      <td>25</td>\n",
       "      <td>Radial Velocity</td>\n",
       "      <td>0.84000</td>\n",
       "      <td>14.653140</td>\n",
       "      <td>K0IV-V</td>\n",
       "      <td>55 Cnc b</td>\n",
       "    </tr>\n",
       "    <tr>\n",
       "      <th>3</th>\n",
       "      <td>2428</td>\n",
       "      <td>Imaging</td>\n",
       "      <td>2.60000</td>\n",
       "      <td>10260.000000</td>\n",
       "      <td>F0IV</td>\n",
       "      <td>51 Eri b</td>\n",
       "    </tr>\n",
       "    <tr>\n",
       "      <th>4</th>\n",
       "      <td>12</td>\n",
       "      <td>Radial Velocity</td>\n",
       "      <td>0.47000</td>\n",
       "      <td>4.230800</td>\n",
       "      <td>G2 IV</td>\n",
       "      <td>51 Peg b</td>\n",
       "    </tr>\n",
       "    <tr>\n",
       "      <th>...</th>\n",
       "      <td>...</td>\n",
       "      <td>...</td>\n",
       "      <td>...</td>\n",
       "      <td>...</td>\n",
       "      <td>...</td>\n",
       "      <td>...</td>\n",
       "    </tr>\n",
       "    <tr>\n",
       "      <th>1144</th>\n",
       "      <td>83</td>\n",
       "      <td>Radial Velocity</td>\n",
       "      <td>12.60000</td>\n",
       "      <td>2088.330000</td>\n",
       "      <td>G0V</td>\n",
       "      <td>pi Men b</td>\n",
       "    </tr>\n",
       "    <tr>\n",
       "      <th>1145</th>\n",
       "      <td>6825</td>\n",
       "      <td>Primary Transit</td>\n",
       "      <td>0.01142</td>\n",
       "      <td>6.267852</td>\n",
       "      <td>G0V</td>\n",
       "      <td>pi Men c</td>\n",
       "    </tr>\n",
       "    <tr>\n",
       "      <th>1146</th>\n",
       "      <td>7</td>\n",
       "      <td>Radial Velocity</td>\n",
       "      <td>5.84000</td>\n",
       "      <td>3.312490</td>\n",
       "      <td>F7 V</td>\n",
       "      <td>tau Boo A b</td>\n",
       "    </tr>\n",
       "    <tr>\n",
       "      <th>1147</th>\n",
       "      <td>13</td>\n",
       "      <td>Radial Velocity</td>\n",
       "      <td>0.62000</td>\n",
       "      <td>4.617110</td>\n",
       "      <td>F8 V</td>\n",
       "      <td>ups And b</td>\n",
       "    </tr>\n",
       "    <tr>\n",
       "      <th>1148</th>\n",
       "      <td>14</td>\n",
       "      <td>Radial Velocity</td>\n",
       "      <td>9.10000</td>\n",
       "      <td>240.937000</td>\n",
       "      <td>F8 V</td>\n",
       "      <td>ups And c</td>\n",
       "    </tr>\n",
       "  </tbody>\n",
       "</table>\n",
       "<p>1149 rows × 6 columns</p>\n",
       "</div>"
      ],
      "text/plain": [
       "     obs_id   detection_type      mass        period star_spec_type  \\\n",
       "0        77  Radial Velocity   9.10000   1763.300000           K0 V   \n",
       "1       309  Radial Velocity   6.90000  52596.000000           K0 V   \n",
       "2        25  Radial Velocity   0.84000     14.653140         K0IV-V   \n",
       "3      2428          Imaging   2.60000  10260.000000           F0IV   \n",
       "4        12  Radial Velocity   0.47000      4.230800          G2 IV   \n",
       "...     ...              ...       ...           ...            ...   \n",
       "1144     83  Radial Velocity  12.60000   2088.330000            G0V   \n",
       "1145   6825  Primary Transit   0.01142      6.267852            G0V   \n",
       "1146      7  Radial Velocity   5.84000      3.312490           F7 V   \n",
       "1147     13  Radial Velocity   0.62000      4.617110           F8 V   \n",
       "1148     14  Radial Velocity   9.10000    240.937000           F8 V   \n",
       "\n",
       "      granule_uid  \n",
       "0        14 Her b  \n",
       "1        14 Her c  \n",
       "2        55 Cnc b  \n",
       "3        51 Eri b  \n",
       "4        51 Peg b  \n",
       "...           ...  \n",
       "1144     pi Men b  \n",
       "1145     pi Men c  \n",
       "1146  tau Boo A b  \n",
       "1147    ups And b  \n",
       "1148    ups And c  \n",
       "\n",
       "[1149 rows x 6 columns]"
      ]
     },
     "execution_count": 10,
     "metadata": {},
     "output_type": "execute_result"
    }
   ],
   "source": [
    "#visualizamos DataFrame.\n",
    "df"
   ]
  },
  {
   "cell_type": "code",
   "execution_count": 11,
   "id": "d1292f50-9214-423e-879e-e8f661023391",
   "metadata": {},
   "outputs": [],
   "source": [
    "#redefinimos indice de DataFrame para no tener confusiones en futuros matcheos.\n",
    "df.set_index('granule_uid', inplace=True)"
   ]
  },
  {
   "cell_type": "code",
   "execution_count": 12,
   "id": "c1deb979-f396-4af8-9d53-a9727fa9006b",
   "metadata": {},
   "outputs": [
    {
     "data": {
      "text/html": [
       "<div>\n",
       "<style scoped>\n",
       "    .dataframe tbody tr th:only-of-type {\n",
       "        vertical-align: middle;\n",
       "    }\n",
       "\n",
       "    .dataframe tbody tr th {\n",
       "        vertical-align: top;\n",
       "    }\n",
       "\n",
       "    .dataframe thead th {\n",
       "        text-align: right;\n",
       "    }\n",
       "</style>\n",
       "<table border=\"1\" class=\"dataframe\">\n",
       "  <thead>\n",
       "    <tr style=\"text-align: right;\">\n",
       "      <th></th>\n",
       "      <th>obs_id</th>\n",
       "      <th>detection_type</th>\n",
       "      <th>mass</th>\n",
       "      <th>period</th>\n",
       "      <th>star_spec_type</th>\n",
       "    </tr>\n",
       "    <tr>\n",
       "      <th>granule_uid</th>\n",
       "      <th></th>\n",
       "      <th></th>\n",
       "      <th></th>\n",
       "      <th></th>\n",
       "      <th></th>\n",
       "    </tr>\n",
       "  </thead>\n",
       "  <tbody>\n",
       "    <tr>\n",
       "      <th>14 Her b</th>\n",
       "      <td>77</td>\n",
       "      <td>Radial Velocity</td>\n",
       "      <td>9.10000</td>\n",
       "      <td>1763.300000</td>\n",
       "      <td>K0 V</td>\n",
       "    </tr>\n",
       "    <tr>\n",
       "      <th>14 Her c</th>\n",
       "      <td>309</td>\n",
       "      <td>Radial Velocity</td>\n",
       "      <td>6.90000</td>\n",
       "      <td>52596.000000</td>\n",
       "      <td>K0 V</td>\n",
       "    </tr>\n",
       "    <tr>\n",
       "      <th>55 Cnc b</th>\n",
       "      <td>25</td>\n",
       "      <td>Radial Velocity</td>\n",
       "      <td>0.84000</td>\n",
       "      <td>14.653140</td>\n",
       "      <td>K0IV-V</td>\n",
       "    </tr>\n",
       "    <tr>\n",
       "      <th>51 Eri b</th>\n",
       "      <td>2428</td>\n",
       "      <td>Imaging</td>\n",
       "      <td>2.60000</td>\n",
       "      <td>10260.000000</td>\n",
       "      <td>F0IV</td>\n",
       "    </tr>\n",
       "    <tr>\n",
       "      <th>51 Peg b</th>\n",
       "      <td>12</td>\n",
       "      <td>Radial Velocity</td>\n",
       "      <td>0.47000</td>\n",
       "      <td>4.230800</td>\n",
       "      <td>G2 IV</td>\n",
       "    </tr>\n",
       "    <tr>\n",
       "      <th>...</th>\n",
       "      <td>...</td>\n",
       "      <td>...</td>\n",
       "      <td>...</td>\n",
       "      <td>...</td>\n",
       "      <td>...</td>\n",
       "    </tr>\n",
       "    <tr>\n",
       "      <th>pi Men b</th>\n",
       "      <td>83</td>\n",
       "      <td>Radial Velocity</td>\n",
       "      <td>12.60000</td>\n",
       "      <td>2088.330000</td>\n",
       "      <td>G0V</td>\n",
       "    </tr>\n",
       "    <tr>\n",
       "      <th>pi Men c</th>\n",
       "      <td>6825</td>\n",
       "      <td>Primary Transit</td>\n",
       "      <td>0.01142</td>\n",
       "      <td>6.267852</td>\n",
       "      <td>G0V</td>\n",
       "    </tr>\n",
       "    <tr>\n",
       "      <th>tau Boo A b</th>\n",
       "      <td>7</td>\n",
       "      <td>Radial Velocity</td>\n",
       "      <td>5.84000</td>\n",
       "      <td>3.312490</td>\n",
       "      <td>F7 V</td>\n",
       "    </tr>\n",
       "    <tr>\n",
       "      <th>ups And b</th>\n",
       "      <td>13</td>\n",
       "      <td>Radial Velocity</td>\n",
       "      <td>0.62000</td>\n",
       "      <td>4.617110</td>\n",
       "      <td>F8 V</td>\n",
       "    </tr>\n",
       "    <tr>\n",
       "      <th>ups And c</th>\n",
       "      <td>14</td>\n",
       "      <td>Radial Velocity</td>\n",
       "      <td>9.10000</td>\n",
       "      <td>240.937000</td>\n",
       "      <td>F8 V</td>\n",
       "    </tr>\n",
       "  </tbody>\n",
       "</table>\n",
       "<p>1149 rows × 5 columns</p>\n",
       "</div>"
      ],
      "text/plain": [
       "            obs_id   detection_type      mass        period star_spec_type\n",
       "granule_uid                                                               \n",
       "14 Her b        77  Radial Velocity   9.10000   1763.300000           K0 V\n",
       "14 Her c       309  Radial Velocity   6.90000  52596.000000           K0 V\n",
       "55 Cnc b        25  Radial Velocity   0.84000     14.653140         K0IV-V\n",
       "51 Eri b      2428          Imaging   2.60000  10260.000000           F0IV\n",
       "51 Peg b        12  Radial Velocity   0.47000      4.230800          G2 IV\n",
       "...            ...              ...       ...           ...            ...\n",
       "pi Men b        83  Radial Velocity  12.60000   2088.330000            G0V\n",
       "pi Men c      6825  Primary Transit   0.01142      6.267852            G0V\n",
       "tau Boo A b      7  Radial Velocity   5.84000      3.312490           F7 V\n",
       "ups And b       13  Radial Velocity   0.62000      4.617110           F8 V\n",
       "ups And c       14  Radial Velocity   9.10000    240.937000           F8 V\n",
       "\n",
       "[1149 rows x 5 columns]"
      ]
     },
     "execution_count": 12,
     "metadata": {},
     "output_type": "execute_result"
    }
   ],
   "source": [
    "df"
   ]
  },
  {
   "cell_type": "code",
   "execution_count": 13,
   "id": "62c68534-ee55-4053-ad7b-4609c087db8f",
   "metadata": {},
   "outputs": [],
   "source": [
    "#descargamos tabla en compu. \n",
    "df.to_csv('tabla.csv')"
   ]
  },
  {
   "cell_type": "code",
   "execution_count": 14,
   "id": "4bbeddbf-b94a-4f13-b976-3fe25c185a2e",
   "metadata": {},
   "outputs": [],
   "source": [
    "#len(df) => cantidad de filas de df"
   ]
  },
  {
   "cell_type": "code",
   "execution_count": 15,
   "id": "b996c045-e0de-4965-a712-bb3146ceb3e7",
   "metadata": {},
   "outputs": [],
   "source": [
    "#creamos el DataFrame indicando los nombres de las columnas y seleccionando los datos de 'df'.\n",
    "matriz = pd.DataFrame(df, columns=['detection_type', 'mass','period', 'star_spec_type'])\n",
    "\n",
    "#print(matriz) \n",
    "\n",
    "#extraemos cada columna de la matriz generada\n",
    "columna_P = matriz['period'] \n",
    "columna_mass = matriz['mass'] \n",
    "columna_startype = matriz['star_spec_type']\n",
    "columna_dectype = matriz['detection_type']\n",
    "\n",
    "\n",
    "#print(columna_P.values) # mostramos los valores de la columna A\n",
    "\n",
    "\n",
    "#convertimos los datos de las columnas a listas.\n",
    "datos_P = list(columna_P) \n",
    "datos_mass = list(columna_mass)\n",
    "datos_dectype = list(columna_dectype)\n",
    "\n",
    "#print(datos_P) "
   ]
  },
  {
   "cell_type": "code",
   "execution_count": 16,
   "id": "1fcecbb1-1849-4033-8a5d-0f14e4d34c6d",
   "metadata": {},
   "outputs": [],
   "source": [
    "#print(datos_dectype)"
   ]
  },
  {
   "cell_type": "markdown",
   "id": "f072d954-e01d-4f60-aa35-6dde36621d15",
   "metadata": {},
   "source": [
    "Una vez obtenida la tabla pasamos a graficar la masa de los planetas en función de su periodo orbital diferenciando según la tecnica de detección. También realizamos un histograma de la masa y del periodo para observar la frecuencia de cada dato según el tipo de detección y determinar por lo tanto si existe algún tipo de sesgo en las propiedades de los exoplanetas dependiendo la herramienta de detección que se utilice. "
   ]
  },
  {
   "cell_type": "code",
   "execution_count": 17,
   "id": "99b327dd-714f-4799-b91b-c7879bb9f882",
   "metadata": {},
   "outputs": [],
   "source": [
    "import matplotlib.pyplot as plt "
   ]
  },
  {
   "cell_type": "code",
   "execution_count": 18,
   "id": "060da573-e771-4db7-87bd-e1d259778d68",
   "metadata": {
    "tags": []
   },
   "outputs": [
    {
     "data": {
      "image/png": "[encoded data removed]",
      "text/plain": [
       "<Figure size 864x576 with 1 Axes>"
      ]
     },
     "metadata": {
      "needs_background": "light"
     },
     "output_type": "display_data"
    }
   ],
   "source": [
    "Dec=matriz.loc[:,'detection_type']  #toma columna de matriz etiquetada con 'detection_type'\n",
    "#Dec\n",
    "\n",
    "RV=Dec=='Radial Velocity'  #condición, true cuando es velocidad radial el tipo de detección y false cuando no lo es.\n",
    "#RV \n",
    "matriz_RV=matriz.loc[RV] #toma datos de matriz donde se cumpla la condición de que el tipo de detección sea velocidad radial.\n",
    "#matriz_RV\n",
    "\n",
    "Ima=Dec=='Imaging'\n",
    "matriz_Ima=matriz.loc[Ima]\n",
    "\n",
    "PT=Dec=='Primary Transit'\n",
    "matriz_PT=matriz.loc[PT]\n",
    "\n",
    "Astrom=Dec=='Astrometry'\n",
    "matriz_Astrom=matriz.loc[Astrom]\n",
    "\n",
    "O=Dec=='Other'\n",
    "matriz_O=matriz.loc[O]\n",
    "\n",
    "TTV=Dec=='TTV'\n",
    "matriz_TTV=matriz.loc[TTV]\n",
    "\n",
    "Micro=Dec=='Microlensing'\n",
    "matriz_Micro=matriz.loc[Micro]\n",
    "\n",
    "Pul=Dec=='Pulsar'\n",
    "matriz_Pul=matriz.loc[Pul]\n",
    "\n",
    "\n",
    "\n",
    "plt.figure(figsize = (12,8))\n",
    "\n",
    "plt.plot(matriz_RV['period'],matriz_RV['mass'],'>', label='Velocidad Radial')\n",
    "plt.plot(matriz_Ima['period'],matriz_Ima['mass'],'v',label='Imagen Directa') \n",
    "plt.plot(matriz_PT['period'],matriz_PT['mass'],'<',label='Transito', markersize = 3) \n",
    "plt.plot(matriz_Astrom['period'],matriz_Astrom['mass'],'s', label='Astrometricamente', color='cyan') \n",
    "plt.plot(matriz_O['period'],matriz_O['mass'],'o',label='Otra tecnica', markersize = 7, color='yellow') \n",
    "plt.plot(matriz_TTV['period'],matriz_TTV['mass'],'D', label='TTV', color='red') \n",
    "plt.plot(matriz_Micro['period'],matriz_Micro['mass'],'H',label='Microlentes') \n",
    "plt.plot(matriz_Pul['period'],matriz_Pul['mass'],'p',label='Pulsar', color='k') \n",
    "plt.xscale('log')\n",
    "plt.xlabel('Periodo[d]')\n",
    "plt.ylabel('Masas [Mjup]')\n",
    "plt.title('M vs P.')\n",
    "plt.legend(loc='lower right',fontsize=10)\n",
    "\n",
    "plt.show()\n"
   ]
  },
  {
   "cell_type": "markdown",
   "id": "f5c9d389-0c0a-4217-a7a4-4c2d4a338d2a",
   "metadata": {},
   "source": [
    "Con este gráfico es claro que el método más efectivo y utilizado es la técnica por transito para detectar exoplanetas. Veamos en los siguientes histograma si observamos algún sesgo de las mismas."
   ]
  },
  {
   "cell_type": "code",
   "execution_count": 19,
   "id": "9a41e263-6f05-4de4-9e63-e757d625d41b",
   "metadata": {},
   "outputs": [
    {
     "data": {
      "image/png": "[encoded data removed]",
      "text/plain": [
       "<Figure size 864x576 with 1 Axes>"
      ]
     },
     "metadata": {
      "needs_background": "light"
     },
     "output_type": "display_data"
    }
   ],
   "source": [
    "plt.figure(figsize = (12,8))\n",
    "\n",
    "plt.hist(matriz_RV['mass'], bins='auto', density='true', label='Velocidad Radial', histtype='step',lw=2)\n",
    "plt.hist(matriz_Ima['mass'], bins='auto', density='true', label='Imagen Directa', histtype='step',lw=2)\n",
    "plt.hist(matriz_PT['mass'], bins='auto', density='true', label='Transito', histtype='step',lw=2)\n",
    "plt.hist(matriz_O['mass'], bins='auto', density='true', label='Otra tecnica', histtype='step',lw=2)\n",
    "plt.hist(matriz_TTV['mass'], bins='auto', density='true', label='TTV', histtype='step',lw=2)\n",
    "plt.hist(matriz_Micro['mass'], bins='auto', density='true', label='Microlentes', histtype='step',lw=2)\n",
    "plt.hist(matriz_Pul['mass'], bins='auto', density='true', label='Pulsar', histtype='step',lw=2)\n",
    "plt.hist(matriz_Astrom['mass'], bins='auto', density='true', label='Astrometricamente', histtype='step',lw=2)\n",
    "plt.title('Distribución de probabilidad de masa.')\n",
    "plt.xlabel('Masa[Mjup]')\n",
    "plt.ylabel('Frecuencia')\n",
    "plt.legend(loc='upper right',fontsize=13)\n",
    "plt.grid()\n",
    "\n",
    "plt.show()"
   ]
  },
  {
   "cell_type": "code",
   "execution_count": 20,
   "id": "c60ae75c-0f9e-415e-a1b3-53a28e41f4fd",
   "metadata": {},
   "outputs": [],
   "source": [
    "import numpy as np"
   ]
  },
  {
   "cell_type": "code",
   "execution_count": 21,
   "id": "9b1c145a-48f9-4fb3-8292-7276ea2580c8",
   "metadata": {},
   "outputs": [
    {
     "data": {
      "image/png": "[encoded data removed]",
      "text/plain": [
       "<Figure size 864x576 with 1 Axes>"
      ]
     },
     "metadata": {
      "needs_background": "light"
     },
     "output_type": "display_data"
    }
   ],
   "source": [
    "plt.figure(figsize = (12,8))\n",
    "\n",
    "plt.hist(np.log(matriz_RV['period']), bins='auto', density='true', label='Velocidad Radial', histtype='step',lw=2)\n",
    "plt.hist(np.log(matriz_Ima['period']), bins='auto', density='true', label='Imagen Directa', histtype='step',lw=2)\n",
    "plt.hist(np.log(matriz_PT['period']), bins='auto', density='true', label='Transito', histtype='step',lw=2)\n",
    "plt.hist(np.log(matriz_O['period']), bins='auto', density='true', label='Otra tecnica', histtype='step',lw=2)\n",
    "plt.hist(np.log(matriz_TTV['period']), bins='auto', density='true', label='TTV', histtype='step',lw=2)\n",
    "plt.hist(np.log(matriz_Micro['period']), bins='auto', density='true', label='Microlentes', histtype='step',lw=2)\n",
    "plt.hist(np.log(matriz_Pul['period']), bins='auto', density='true', label='Pulsar', histtype='step',lw=2)\n",
    "plt.hist(np.log(matriz_Astrom['period']), bins='auto', density='true', label='Astrometricamente', histtype='step',lw=2)\n",
    "plt.title('Distribución de probabilidad de periodo.')\n",
    "plt.xlabel('Periodo[d]')\n",
    "plt.ylabel('Frecuencia')\n",
    "plt.legend(loc='upper right',fontsize=13)\n",
    "plt.grid()\n",
    "\n",
    "plt.show()"
   ]
  },
  {
   "cell_type": "markdown",
   "id": "45896b7e-d7fb-4366-afdb-93e596ee157a",
   "metadata": {},
   "source": [
    "Observando la distribución de masas en el primer histograma vemos que las técnicas de TTV y transito tienen mayor tendencia a detectar exoplanetas con menores masas, lo cual implica un condicionamiento a los resultados de la investigación. Por otra parte, en el segundo histograma observamos que si bien cada técnica posee prioridad sobre un pequeño rango de periodo, estos rangos se distribuyen en todo el intervalo del periodo considerado, por lo tanto es aceptable el resultado de este análisis si se consideran todas las técnicas de observación utilizadas. Tener en cuenta de todas maneras que la técnica de microlentes tiene una notable frecuencia en su dado rango de periodo frente a las otras técnicas."
   ]
  },
  {
   "cell_type": "markdown",
   "id": "eb91a4bc-a84f-4a99-8420-ff36fec35196",
   "metadata": {},
   "source": [
    "#### 2.2. Distribución de distancias de las estrellas con exoplanetas."
   ]
  },
  {
   "cell_type": "markdown",
   "id": "0af1f4b5-8def-44e7-994a-69e0ddd827a7",
   "metadata": {},
   "source": [
    "Realizamos un histograma de las distancias entre las estrellas y los exoplanetas que albergan para analizar si la distribución que siguen es consistente con una gaussiana. Para esto, como se trato en el informe 2, analizamos el $ \\textit{p-value} $ utilizando la herramienta 'kstest' de 'scipy.stats' para obtenerlo y limitamos el rango de valores de 0 a 2 (AU) de tal manera que estemos usando datos precisos. \n"
   ]
  },
  {
   "cell_type": "markdown",
   "id": "7b42a5aa-d965-4f35-bdd4-5ed0e2941b36",
   "metadata": {},
   "source": [
    "La forma de armar el query y manipular las tablas es análoga a la usada en la sección 2.1."
   ]
  },
  {
   "cell_type": "code",
   "execution_count": 22,
   "id": "d8ba9976-feab-4cb6-a062-c84d245281b7",
   "metadata": {},
   "outputs": [],
   "source": [
    "query2 = \"\"\"SELECT semi_major_axis, granule_uid\n",
    "FROM exoplanet.epn_core \n",
    "WHERE mass<15 AND period>0 AND star_distance>0 \"\"\""
   ]
  },
  {
   "cell_type": "code",
   "execution_count": 23,
   "id": "f438b9da-f1b2-4917-9e7b-b29a285df107",
   "metadata": {},
   "outputs": [],
   "source": [
    "results2 = service.search(query2)\n",
    "table2=results2.to_table()\n",
    "df2=table2.to_pandas()"
   ]
  },
  {
   "cell_type": "code",
   "execution_count": 24,
   "id": "9c0114c7-61c9-40c7-98d1-13dd37d187de",
   "metadata": {},
   "outputs": [
    {
     "data": {
      "text/html": [
       "<div>\n",
       "<style scoped>\n",
       "    .dataframe tbody tr th:only-of-type {\n",
       "        vertical-align: middle;\n",
       "    }\n",
       "\n",
       "    .dataframe tbody tr th {\n",
       "        vertical-align: top;\n",
       "    }\n",
       "\n",
       "    .dataframe thead th {\n",
       "        text-align: right;\n",
       "    }\n",
       "</style>\n",
       "<table border=\"1\" class=\"dataframe\">\n",
       "  <thead>\n",
       "    <tr style=\"text-align: right;\">\n",
       "      <th></th>\n",
       "      <th>semi_major_axis</th>\n",
       "      <th>granule_uid</th>\n",
       "    </tr>\n",
       "  </thead>\n",
       "  <tbody>\n",
       "    <tr>\n",
       "      <th>0</th>\n",
       "      <td>2.84500</td>\n",
       "      <td>14 Her b</td>\n",
       "    </tr>\n",
       "    <tr>\n",
       "      <th>1</th>\n",
       "      <td>27.40000</td>\n",
       "      <td>14 Her c</td>\n",
       "    </tr>\n",
       "    <tr>\n",
       "      <th>2</th>\n",
       "      <td>0.11339</td>\n",
       "      <td>55 Cnc b</td>\n",
       "    </tr>\n",
       "    <tr>\n",
       "      <th>3</th>\n",
       "      <td>11.10000</td>\n",
       "      <td>51 Eri b</td>\n",
       "    </tr>\n",
       "    <tr>\n",
       "      <th>4</th>\n",
       "      <td>0.05200</td>\n",
       "      <td>51 Peg b</td>\n",
       "    </tr>\n",
       "    <tr>\n",
       "      <th>...</th>\n",
       "      <td>...</td>\n",
       "      <td>...</td>\n",
       "    </tr>\n",
       "    <tr>\n",
       "      <th>1144</th>\n",
       "      <td>3.30800</td>\n",
       "      <td>pi Men b</td>\n",
       "    </tr>\n",
       "    <tr>\n",
       "      <th>1145</th>\n",
       "      <td>0.06702</td>\n",
       "      <td>pi Men c</td>\n",
       "    </tr>\n",
       "    <tr>\n",
       "      <th>1146</th>\n",
       "      <td>0.04600</td>\n",
       "      <td>tau Boo A b</td>\n",
       "    </tr>\n",
       "    <tr>\n",
       "      <th>1147</th>\n",
       "      <td>0.05900</td>\n",
       "      <td>ups And b</td>\n",
       "    </tr>\n",
       "    <tr>\n",
       "      <th>1148</th>\n",
       "      <td>0.86100</td>\n",
       "      <td>ups And c</td>\n",
       "    </tr>\n",
       "  </tbody>\n",
       "</table>\n",
       "<p>1149 rows × 2 columns</p>\n",
       "</div>"
      ],
      "text/plain": [
       "      semi_major_axis  granule_uid\n",
       "0             2.84500     14 Her b\n",
       "1            27.40000     14 Her c\n",
       "2             0.11339     55 Cnc b\n",
       "3            11.10000     51 Eri b\n",
       "4             0.05200     51 Peg b\n",
       "...               ...          ...\n",
       "1144          3.30800     pi Men b\n",
       "1145          0.06702     pi Men c\n",
       "1146          0.04600  tau Boo A b\n",
       "1147          0.05900    ups And b\n",
       "1148          0.86100    ups And c\n",
       "\n",
       "[1149 rows x 2 columns]"
      ]
     },
     "execution_count": 24,
     "metadata": {},
     "output_type": "execute_result"
    }
   ],
   "source": [
    "df2"
   ]
  },
  {
   "cell_type": "code",
   "execution_count": 25,
   "id": "05db9bd3-b97a-4767-b068-9baffeb9b764",
   "metadata": {},
   "outputs": [],
   "source": [
    "df2.set_index('granule_uid', inplace=True)"
   ]
  },
  {
   "cell_type": "code",
   "execution_count": 26,
   "id": "e449a6b6-a955-418b-85de-f8062e634be9",
   "metadata": {},
   "outputs": [
    {
     "data": {
      "text/html": [
       "<div>\n",
       "<style scoped>\n",
       "    .dataframe tbody tr th:only-of-type {\n",
       "        vertical-align: middle;\n",
       "    }\n",
       "\n",
       "    .dataframe tbody tr th {\n",
       "        vertical-align: top;\n",
       "    }\n",
       "\n",
       "    .dataframe thead th {\n",
       "        text-align: right;\n",
       "    }\n",
       "</style>\n",
       "<table border=\"1\" class=\"dataframe\">\n",
       "  <thead>\n",
       "    <tr style=\"text-align: right;\">\n",
       "      <th></th>\n",
       "      <th>semi_major_axis</th>\n",
       "    </tr>\n",
       "    <tr>\n",
       "      <th>granule_uid</th>\n",
       "      <th></th>\n",
       "    </tr>\n",
       "  </thead>\n",
       "  <tbody>\n",
       "    <tr>\n",
       "      <th>14 Her b</th>\n",
       "      <td>2.84500</td>\n",
       "    </tr>\n",
       "    <tr>\n",
       "      <th>14 Her c</th>\n",
       "      <td>27.40000</td>\n",
       "    </tr>\n",
       "    <tr>\n",
       "      <th>55 Cnc b</th>\n",
       "      <td>0.11339</td>\n",
       "    </tr>\n",
       "    <tr>\n",
       "      <th>51 Eri b</th>\n",
       "      <td>11.10000</td>\n",
       "    </tr>\n",
       "    <tr>\n",
       "      <th>51 Peg b</th>\n",
       "      <td>0.05200</td>\n",
       "    </tr>\n",
       "    <tr>\n",
       "      <th>...</th>\n",
       "      <td>...</td>\n",
       "    </tr>\n",
       "    <tr>\n",
       "      <th>pi Men b</th>\n",
       "      <td>3.30800</td>\n",
       "    </tr>\n",
       "    <tr>\n",
       "      <th>pi Men c</th>\n",
       "      <td>0.06702</td>\n",
       "    </tr>\n",
       "    <tr>\n",
       "      <th>tau Boo A b</th>\n",
       "      <td>0.04600</td>\n",
       "    </tr>\n",
       "    <tr>\n",
       "      <th>ups And b</th>\n",
       "      <td>0.05900</td>\n",
       "    </tr>\n",
       "    <tr>\n",
       "      <th>ups And c</th>\n",
       "      <td>0.86100</td>\n",
       "    </tr>\n",
       "  </tbody>\n",
       "</table>\n",
       "<p>1149 rows × 1 columns</p>\n",
       "</div>"
      ],
      "text/plain": [
       "             semi_major_axis\n",
       "granule_uid                 \n",
       "14 Her b             2.84500\n",
       "14 Her c            27.40000\n",
       "55 Cnc b             0.11339\n",
       "51 Eri b            11.10000\n",
       "51 Peg b             0.05200\n",
       "...                      ...\n",
       "pi Men b             3.30800\n",
       "pi Men c             0.06702\n",
       "tau Boo A b          0.04600\n",
       "ups And b            0.05900\n",
       "ups And c            0.86100\n",
       "\n",
       "[1149 rows x 1 columns]"
      ]
     },
     "execution_count": 26,
     "metadata": {},
     "output_type": "execute_result"
    }
   ],
   "source": [
    "df2"
   ]
  },
  {
   "cell_type": "code",
   "execution_count": 27,
   "id": "ac60f1be-3596-4cf9-96f6-a18cd9156dc2",
   "metadata": {},
   "outputs": [],
   "source": [
    "#matcheamos datos de tablas de sección 2.1 y 2.2 para tener en una sola.\n",
    "tablafinal=pd.merge(left=df, right=df2,how='inner', on='granule_uid')"
   ]
  },
  {
   "cell_type": "code",
   "execution_count": 28,
   "id": "6b70e4a2-b967-4c32-8ae2-a44a15210e1f",
   "metadata": {},
   "outputs": [
    {
     "data": {
      "text/html": [
       "<div>\n",
       "<style scoped>\n",
       "    .dataframe tbody tr th:only-of-type {\n",
       "        vertical-align: middle;\n",
       "    }\n",
       "\n",
       "    .dataframe tbody tr th {\n",
       "        vertical-align: top;\n",
       "    }\n",
       "\n",
       "    .dataframe thead th {\n",
       "        text-align: right;\n",
       "    }\n",
       "</style>\n",
       "<table border=\"1\" class=\"dataframe\">\n",
       "  <thead>\n",
       "    <tr style=\"text-align: right;\">\n",
       "      <th></th>\n",
       "      <th>obs_id</th>\n",
       "      <th>detection_type</th>\n",
       "      <th>mass</th>\n",
       "      <th>period</th>\n",
       "      <th>star_spec_type</th>\n",
       "      <th>semi_major_axis</th>\n",
       "    </tr>\n",
       "    <tr>\n",
       "      <th>granule_uid</th>\n",
       "      <th></th>\n",
       "      <th></th>\n",
       "      <th></th>\n",
       "      <th></th>\n",
       "      <th></th>\n",
       "      <th></th>\n",
       "    </tr>\n",
       "  </thead>\n",
       "  <tbody>\n",
       "    <tr>\n",
       "      <th>14 Her b</th>\n",
       "      <td>77</td>\n",
       "      <td>Radial Velocity</td>\n",
       "      <td>9.10000</td>\n",
       "      <td>1763.300000</td>\n",
       "      <td>K0 V</td>\n",
       "      <td>2.84500</td>\n",
       "    </tr>\n",
       "    <tr>\n",
       "      <th>14 Her c</th>\n",
       "      <td>309</td>\n",
       "      <td>Radial Velocity</td>\n",
       "      <td>6.90000</td>\n",
       "      <td>52596.000000</td>\n",
       "      <td>K0 V</td>\n",
       "      <td>27.40000</td>\n",
       "    </tr>\n",
       "    <tr>\n",
       "      <th>55 Cnc b</th>\n",
       "      <td>25</td>\n",
       "      <td>Radial Velocity</td>\n",
       "      <td>0.84000</td>\n",
       "      <td>14.653140</td>\n",
       "      <td>K0IV-V</td>\n",
       "      <td>0.11339</td>\n",
       "    </tr>\n",
       "    <tr>\n",
       "      <th>51 Eri b</th>\n",
       "      <td>2428</td>\n",
       "      <td>Imaging</td>\n",
       "      <td>2.60000</td>\n",
       "      <td>10260.000000</td>\n",
       "      <td>F0IV</td>\n",
       "      <td>11.10000</td>\n",
       "    </tr>\n",
       "    <tr>\n",
       "      <th>51 Peg b</th>\n",
       "      <td>12</td>\n",
       "      <td>Radial Velocity</td>\n",
       "      <td>0.47000</td>\n",
       "      <td>4.230800</td>\n",
       "      <td>G2 IV</td>\n",
       "      <td>0.05200</td>\n",
       "    </tr>\n",
       "    <tr>\n",
       "      <th>...</th>\n",
       "      <td>...</td>\n",
       "      <td>...</td>\n",
       "      <td>...</td>\n",
       "      <td>...</td>\n",
       "      <td>...</td>\n",
       "      <td>...</td>\n",
       "    </tr>\n",
       "    <tr>\n",
       "      <th>pi Men b</th>\n",
       "      <td>83</td>\n",
       "      <td>Radial Velocity</td>\n",
       "      <td>12.60000</td>\n",
       "      <td>2088.330000</td>\n",
       "      <td>G0V</td>\n",
       "      <td>3.30800</td>\n",
       "    </tr>\n",
       "    <tr>\n",
       "      <th>pi Men c</th>\n",
       "      <td>6825</td>\n",
       "      <td>Primary Transit</td>\n",
       "      <td>0.01142</td>\n",
       "      <td>6.267852</td>\n",
       "      <td>G0V</td>\n",
       "      <td>0.06702</td>\n",
       "    </tr>\n",
       "    <tr>\n",
       "      <th>tau Boo A b</th>\n",
       "      <td>7</td>\n",
       "      <td>Radial Velocity</td>\n",
       "      <td>5.84000</td>\n",
       "      <td>3.312490</td>\n",
       "      <td>F7 V</td>\n",
       "      <td>0.04600</td>\n",
       "    </tr>\n",
       "    <tr>\n",
       "      <th>ups And b</th>\n",
       "      <td>13</td>\n",
       "      <td>Radial Velocity</td>\n",
       "      <td>0.62000</td>\n",
       "      <td>4.617110</td>\n",
       "      <td>F8 V</td>\n",
       "      <td>0.05900</td>\n",
       "    </tr>\n",
       "    <tr>\n",
       "      <th>ups And c</th>\n",
       "      <td>14</td>\n",
       "      <td>Radial Velocity</td>\n",
       "      <td>9.10000</td>\n",
       "      <td>240.937000</td>\n",
       "      <td>F8 V</td>\n",
       "      <td>0.86100</td>\n",
       "    </tr>\n",
       "  </tbody>\n",
       "</table>\n",
       "<p>1149 rows × 6 columns</p>\n",
       "</div>"
      ],
      "text/plain": [
       "            obs_id   detection_type      mass        period star_spec_type  \\\n",
       "granule_uid                                                                  \n",
       "14 Her b        77  Radial Velocity   9.10000   1763.300000           K0 V   \n",
       "14 Her c       309  Radial Velocity   6.90000  52596.000000           K0 V   \n",
       "55 Cnc b        25  Radial Velocity   0.84000     14.653140         K0IV-V   \n",
       "51 Eri b      2428          Imaging   2.60000  10260.000000           F0IV   \n",
       "51 Peg b        12  Radial Velocity   0.47000      4.230800          G2 IV   \n",
       "...            ...              ...       ...           ...            ...   \n",
       "pi Men b        83  Radial Velocity  12.60000   2088.330000            G0V   \n",
       "pi Men c      6825  Primary Transit   0.01142      6.267852            G0V   \n",
       "tau Boo A b      7  Radial Velocity   5.84000      3.312490           F7 V   \n",
       "ups And b       13  Radial Velocity   0.62000      4.617110           F8 V   \n",
       "ups And c       14  Radial Velocity   9.10000    240.937000           F8 V   \n",
       "\n",
       "             semi_major_axis  \n",
       "granule_uid                   \n",
       "14 Her b             2.84500  \n",
       "14 Her c            27.40000  \n",
       "55 Cnc b             0.11339  \n",
       "51 Eri b            11.10000  \n",
       "51 Peg b             0.05200  \n",
       "...                      ...  \n",
       "pi Men b             3.30800  \n",
       "pi Men c             0.06702  \n",
       "tau Boo A b          0.04600  \n",
       "ups And b            0.05900  \n",
       "ups And c            0.86100  \n",
       "\n",
       "[1149 rows x 6 columns]"
      ]
     },
     "execution_count": 28,
     "metadata": {},
     "output_type": "execute_result"
    }
   ],
   "source": [
    "tablafinal"
   ]
  },
  {
   "cell_type": "code",
   "execution_count": 29,
   "id": "cb3b980c-0266-4e3e-8d38-52f3b557198b",
   "metadata": {},
   "outputs": [],
   "source": [
    "Dis=tablafinal.loc[:,'semi_major_axis']"
   ]
  },
  {
   "cell_type": "code",
   "execution_count": 30,
   "id": "9741cc49-2241-4a0e-9e1a-3618f824e39e",
   "metadata": {},
   "outputs": [],
   "source": [
    "#Dis"
   ]
  },
  {
   "cell_type": "code",
   "execution_count": 31,
   "id": "7b5b7efb-a892-4cb2-a20b-b0775c0c8364",
   "metadata": {},
   "outputs": [
    {
     "data": {
      "image/png": "[encoded data removed]",
      "text/plain": [
       "<Figure size 432x288 with 1 Axes>"
      ]
     },
     "metadata": {
      "needs_background": "light"
     },
     "output_type": "display_data"
    }
   ],
   "source": [
    "plt.hist(Dis,range=[0,2],bins='auto',density=True, edgecolor='blue')\n",
    "plt.title('Distribución de probabilidad de distancia estrella-planeta.')\n",
    "plt.xlabel('Distancia[AU]')\n",
    "plt.ylabel('Frecuencia')\n",
    "plt.show()"
   ]
  },
  {
   "cell_type": "code",
   "execution_count": 32,
   "id": "3ffc19a3-0fed-4937-95fd-e1df62c713c3",
   "metadata": {},
   "outputs": [
    {
     "data": {
      "text/plain": [
       "granule_uid\n",
       "55 Cnc b       0.113390\n",
       "51 Peg b       0.052000\n",
       "55 Cnc e       0.015439\n",
       "AU Mic b       0.064500\n",
       "AU Mic c       0.110100\n",
       "                 ...   \n",
       "XO-7 b         0.044210\n",
       "pi Men c       0.067020\n",
       "tau Boo A b    0.046000\n",
       "ups And b      0.059000\n",
       "ups And c      0.861000\n",
       "Name: semi_major_axis, Length: 983, dtype: float64"
      ]
     },
     "execution_count": 32,
     "metadata": {},
     "output_type": "execute_result"
    }
   ],
   "source": [
    "#eliminamos datos menores a 0 y mayores a 2 porque limitamos los valores de la distancia entre estrella y planeta al rango [0,2]\n",
    "a=tablafinal['semi_major_axis'][(tablafinal['semi_major_axis']>=0) & (tablafinal['semi_major_axis']<=2)]\n",
    "a"
   ]
  },
  {
   "cell_type": "code",
   "execution_count": 33,
   "id": "a40d0c39-fd19-4f35-b24e-6feed2f1e169",
   "metadata": {},
   "outputs": [],
   "source": [
    "import scipy.stats as sp"
   ]
  },
  {
   "cell_type": "code",
   "execution_count": 34,
   "id": "1daa6189-2b82-4873-87d5-e081cdff4858",
   "metadata": {},
   "outputs": [
    {
     "data": {
      "text/plain": [
       "KstestResult(statistic=0.5017553403698662, pvalue=1.7538230734537844e-229)"
      ]
     },
     "execution_count": 34,
     "metadata": {},
     "output_type": "execute_result"
    }
   ],
   "source": [
    "sp.kstest(a,'norm')"
   ]
  },
  {
   "cell_type": "markdown",
   "id": "1f7c0684-310a-45aa-ba30-10c571d038db",
   "metadata": {},
   "source": [
    "Rechazamos la hipotesis nula por ser el $ \\textit{p-value} $ menor al nivel de significa $ \\alpha = 0.05 $ considerado. Concluimos por lo tanto que la distribución gaussiana no representa a los datos."
   ]
  },
  {
   "cell_type": "markdown",
   "id": "ec136ef4-3e88-408c-8aee-892591dddd6d",
   "metadata": {},
   "source": [
    "#### 2.3. Correlación entre masas y radios de exoplanetas."
   ]
  },
  {
   "cell_type": "markdown",
   "id": "89906426-245f-4bf8-85a5-60e5fd5a6ab3",
   "metadata": {},
   "source": [
    "Por último graficamos en escalas logaritmicas el radio de los planetas en función de la masa.\n",
    "Propusimos un modelo lineal que ajuste a los datos y con la herramienta 'polyfit' de 'numpy' determinamos los parámetros del mismo. Tenemos entonces que\n",
    "\n",
    "$$ \\log(R)=a\\log(Mjup)+b $$\n",
    "donde a y b son la pendiente y ordenada al origen, respectivamente. Renombrando a la constante b como $ b=\\log(c) $, tenemos\n",
    "$$ \\log(R)=a\\log(Mjup)+\\log(c) $$\n",
    "$$ \\log(R)=\\log(Mjup^a)+\\log(c) $$\n",
    "$$ \\log(R)=\\log(Mjup^a*c) $$\n",
    "$$ R=Mjup^a*c $$\n",
    "donde $$ c=10^b $$\n",
    "\n"
   ]
  },
  {
   "cell_type": "markdown",
   "id": "a54f1ee9-632f-42c7-82dd-8ff4748e9f29",
   "metadata": {},
   "source": [
    "Como se hizo anteriormente, seleccionamos de la base de datos el radio de los exoplanetas y unimos la columna al DataFrame de la sección 2.2"
   ]
  },
  {
   "cell_type": "code",
   "execution_count": 35,
   "id": "7ed5809f-bb4b-4bc5-a022-bc21da9c6a69",
   "metadata": {},
   "outputs": [
    {
     "data": {
      "text/html": [
       "<div>\n",
       "<style scoped>\n",
       "    .dataframe tbody tr th:only-of-type {\n",
       "        vertical-align: middle;\n",
       "    }\n",
       "\n",
       "    .dataframe tbody tr th {\n",
       "        vertical-align: top;\n",
       "    }\n",
       "\n",
       "    .dataframe thead th {\n",
       "        text-align: right;\n",
       "    }\n",
       "</style>\n",
       "<table border=\"1\" class=\"dataframe\">\n",
       "  <thead>\n",
       "    <tr style=\"text-align: right;\">\n",
       "      <th></th>\n",
       "      <th>obs_id</th>\n",
       "      <th>detection_type</th>\n",
       "      <th>mass</th>\n",
       "      <th>period</th>\n",
       "      <th>star_spec_type</th>\n",
       "      <th>semi_major_axis</th>\n",
       "      <th>radius</th>\n",
       "    </tr>\n",
       "    <tr>\n",
       "      <th>granule_uid</th>\n",
       "      <th></th>\n",
       "      <th></th>\n",
       "      <th></th>\n",
       "      <th></th>\n",
       "      <th></th>\n",
       "      <th></th>\n",
       "      <th></th>\n",
       "    </tr>\n",
       "  </thead>\n",
       "  <tbody>\n",
       "    <tr>\n",
       "      <th>14 Her b</th>\n",
       "      <td>77</td>\n",
       "      <td>Radial Velocity</td>\n",
       "      <td>9.10000</td>\n",
       "      <td>1763.300000</td>\n",
       "      <td>K0 V</td>\n",
       "      <td>2.84500</td>\n",
       "      <td>NaN</td>\n",
       "    </tr>\n",
       "    <tr>\n",
       "      <th>14 Her c</th>\n",
       "      <td>309</td>\n",
       "      <td>Radial Velocity</td>\n",
       "      <td>6.90000</td>\n",
       "      <td>52596.000000</td>\n",
       "      <td>K0 V</td>\n",
       "      <td>27.40000</td>\n",
       "      <td>NaN</td>\n",
       "    </tr>\n",
       "    <tr>\n",
       "      <th>55 Cnc b</th>\n",
       "      <td>25</td>\n",
       "      <td>Radial Velocity</td>\n",
       "      <td>0.84000</td>\n",
       "      <td>14.653140</td>\n",
       "      <td>K0IV-V</td>\n",
       "      <td>0.11339</td>\n",
       "      <td>NaN</td>\n",
       "    </tr>\n",
       "    <tr>\n",
       "      <th>51 Eri b</th>\n",
       "      <td>2428</td>\n",
       "      <td>Imaging</td>\n",
       "      <td>2.60000</td>\n",
       "      <td>10260.000000</td>\n",
       "      <td>F0IV</td>\n",
       "      <td>11.10000</td>\n",
       "      <td>1.11000</td>\n",
       "    </tr>\n",
       "    <tr>\n",
       "      <th>51 Peg b</th>\n",
       "      <td>12</td>\n",
       "      <td>Radial Velocity</td>\n",
       "      <td>0.47000</td>\n",
       "      <td>4.230800</td>\n",
       "      <td>G2 IV</td>\n",
       "      <td>0.05200</td>\n",
       "      <td>1.90000</td>\n",
       "    </tr>\n",
       "    <tr>\n",
       "      <th>...</th>\n",
       "      <td>...</td>\n",
       "      <td>...</td>\n",
       "      <td>...</td>\n",
       "      <td>...</td>\n",
       "      <td>...</td>\n",
       "      <td>...</td>\n",
       "      <td>...</td>\n",
       "    </tr>\n",
       "    <tr>\n",
       "      <th>pi Men b</th>\n",
       "      <td>83</td>\n",
       "      <td>Radial Velocity</td>\n",
       "      <td>12.60000</td>\n",
       "      <td>2088.330000</td>\n",
       "      <td>G0V</td>\n",
       "      <td>3.30800</td>\n",
       "      <td>NaN</td>\n",
       "    </tr>\n",
       "    <tr>\n",
       "      <th>pi Men c</th>\n",
       "      <td>6825</td>\n",
       "      <td>Primary Transit</td>\n",
       "      <td>0.01142</td>\n",
       "      <td>6.267852</td>\n",
       "      <td>G0V</td>\n",
       "      <td>0.06702</td>\n",
       "      <td>0.16719</td>\n",
       "    </tr>\n",
       "    <tr>\n",
       "      <th>tau Boo A b</th>\n",
       "      <td>7</td>\n",
       "      <td>Radial Velocity</td>\n",
       "      <td>5.84000</td>\n",
       "      <td>3.312490</td>\n",
       "      <td>F7 V</td>\n",
       "      <td>0.04600</td>\n",
       "      <td>1.06000</td>\n",
       "    </tr>\n",
       "    <tr>\n",
       "      <th>ups And b</th>\n",
       "      <td>13</td>\n",
       "      <td>Radial Velocity</td>\n",
       "      <td>0.62000</td>\n",
       "      <td>4.617110</td>\n",
       "      <td>F8 V</td>\n",
       "      <td>0.05900</td>\n",
       "      <td>NaN</td>\n",
       "    </tr>\n",
       "    <tr>\n",
       "      <th>ups And c</th>\n",
       "      <td>14</td>\n",
       "      <td>Radial Velocity</td>\n",
       "      <td>9.10000</td>\n",
       "      <td>240.937000</td>\n",
       "      <td>F8 V</td>\n",
       "      <td>0.86100</td>\n",
       "      <td>NaN</td>\n",
       "    </tr>\n",
       "  </tbody>\n",
       "</table>\n",
       "<p>1149 rows × 7 columns</p>\n",
       "</div>"
      ],
      "text/plain": [
       "            obs_id   detection_type      mass        period star_spec_type  \\\n",
       "granule_uid                                                                  \n",
       "14 Her b        77  Radial Velocity   9.10000   1763.300000           K0 V   \n",
       "14 Her c       309  Radial Velocity   6.90000  52596.000000           K0 V   \n",
       "55 Cnc b        25  Radial Velocity   0.84000     14.653140         K0IV-V   \n",
       "51 Eri b      2428          Imaging   2.60000  10260.000000           F0IV   \n",
       "51 Peg b        12  Radial Velocity   0.47000      4.230800          G2 IV   \n",
       "...            ...              ...       ...           ...            ...   \n",
       "pi Men b        83  Radial Velocity  12.60000   2088.330000            G0V   \n",
       "pi Men c      6825  Primary Transit   0.01142      6.267852            G0V   \n",
       "tau Boo A b      7  Radial Velocity   5.84000      3.312490           F7 V   \n",
       "ups And b       13  Radial Velocity   0.62000      4.617110           F8 V   \n",
       "ups And c       14  Radial Velocity   9.10000    240.937000           F8 V   \n",
       "\n",
       "             semi_major_axis   radius  \n",
       "granule_uid                            \n",
       "14 Her b             2.84500      NaN  \n",
       "14 Her c            27.40000      NaN  \n",
       "55 Cnc b             0.11339      NaN  \n",
       "51 Eri b            11.10000  1.11000  \n",
       "51 Peg b             0.05200  1.90000  \n",
       "...                      ...      ...  \n",
       "pi Men b             3.30800      NaN  \n",
       "pi Men c             0.06702  0.16719  \n",
       "tau Boo A b          0.04600  1.06000  \n",
       "ups And b            0.05900      NaN  \n",
       "ups And c            0.86100      NaN  \n",
       "\n",
       "[1149 rows x 7 columns]"
      ]
     },
     "execution_count": 35,
     "metadata": {},
     "output_type": "execute_result"
    }
   ],
   "source": [
    "query3 = \"\"\"SELECT radius, granule_uid\n",
    "FROM exoplanet.epn_core \n",
    "WHERE mass<15 AND period>0 AND star_distance>0 \"\"\"\n",
    "results3 = service.search(query3)\n",
    "table3=results3.to_table()\n",
    "df3=table3.to_pandas()\n",
    "df3.set_index('granule_uid', inplace=True)\n",
    "tablafinal2=pd.merge(left=tablafinal, right=df3,how='inner', on='granule_uid')\n",
    "tablafinal2"
   ]
  },
  {
   "cell_type": "code",
   "execution_count": 63,
   "id": "761141f8-becc-41ae-b3b7-ea4a2d091bfc",
   "metadata": {},
   "outputs": [],
   "source": [
    "#guardamos tabla que se sube a Github.\n",
    "tablafinal2.to_csv('tablafinal.csv')"
   ]
  },
  {
   "cell_type": "markdown",
   "id": "4397aa1c-628b-4a66-b6c1-78efda889621",
   "metadata": {},
   "source": [
    "Graficamos el radio en función de la masa en escalas logarítmicas."
   ]
  },
  {
   "cell_type": "code",
   "execution_count": 51,
   "id": "aa237dba-b337-464a-be89-7220070c8026",
   "metadata": {},
   "outputs": [
    {
     "data": {
      "image/png": "[encoded data removed]",
      "text/plain": [
       "<Figure size 432x288 with 1 Axes>"
      ]
     },
     "metadata": {
      "needs_background": "light"
     },
     "output_type": "display_data"
    }
   ],
   "source": [
    "plt.plot(tablafinal2['mass'],tablafinal2['radius'],'o', color='k', markersize = 3) \n",
    "plt.xscale('log')\n",
    "plt.yscale('log')\n",
    "plt.xlabel('Masas [Mjup]')\n",
    "plt.ylabel('Radio[Rjup]')\n",
    "plt.title('R vs M.')\n",
    "\n",
    "plt.show()"
   ]
  },
  {
   "cell_type": "markdown",
   "id": "7c8bc3c3-f435-40a5-954f-8b2f4c5f3c34",
   "metadata": {},
   "source": [
    "Eliminamos las filas de valores no determinados (NaN) para que el ajuste no presente errores y hacemos una unión de las columnas para tener un solo DataFrame de los datos que vamos a graficar. "
   ]
  },
  {
   "cell_type": "code",
   "execution_count": 38,
   "id": "44bfacd0-1776-422b-bc26-a0efa6651abd",
   "metadata": {},
   "outputs": [
    {
     "data": {
      "text/plain": [
       "granule_uid\n",
       "51 Eri b       1.11000\n",
       "51 Peg b       1.90000\n",
       "55 Cnc e       0.17370\n",
       "AU Mic b       0.39080\n",
       "AU Mic c       0.31310\n",
       "                ...   \n",
       "beta Pic b     1.65000\n",
       "beta Pic c     1.20000\n",
       "kappa And b    1.20000\n",
       "pi Men c       0.16719\n",
       "tau Boo A b    1.06000\n",
       "Name: radius, Length: 1051, dtype: float64"
      ]
     },
     "execution_count": 38,
     "metadata": {},
     "output_type": "execute_result"
    }
   ],
   "source": [
    "x=tablafinal2['radius'][~tablafinal2['radius'].isna()]\n",
    "x"
   ]
  },
  {
   "cell_type": "code",
   "execution_count": 39,
   "id": "41473626-f5e3-4853-8245-ddf9346febe0",
   "metadata": {},
   "outputs": [
    {
     "data": {
      "text/plain": [
       "granule_uid\n",
       "14 Her b        9.10000\n",
       "14 Her c        6.90000\n",
       "55 Cnc b        0.84000\n",
       "51 Eri b        2.60000\n",
       "51 Peg b        0.47000\n",
       "                 ...   \n",
       "pi Men b       12.60000\n",
       "pi Men c        0.01142\n",
       "tau Boo A b     5.84000\n",
       "ups And b       0.62000\n",
       "ups And c       9.10000\n",
       "Name: mass, Length: 1149, dtype: float64"
      ]
     },
     "execution_count": 39,
     "metadata": {},
     "output_type": "execute_result"
    }
   ],
   "source": [
    "y=tablafinal2['mass'][~tablafinal2['mass'].isna()]\n",
    "y"
   ]
  },
  {
   "cell_type": "code",
   "execution_count": 40,
   "id": "dc2e6381-cb97-4722-b6ac-ee52229cf801",
   "metadata": {},
   "outputs": [
    {
     "data": {
      "text/html": [
       "<div>\n",
       "<style scoped>\n",
       "    .dataframe tbody tr th:only-of-type {\n",
       "        vertical-align: middle;\n",
       "    }\n",
       "\n",
       "    .dataframe tbody tr th {\n",
       "        vertical-align: top;\n",
       "    }\n",
       "\n",
       "    .dataframe thead th {\n",
       "        text-align: right;\n",
       "    }\n",
       "</style>\n",
       "<table border=\"1\" class=\"dataframe\">\n",
       "  <thead>\n",
       "    <tr style=\"text-align: right;\">\n",
       "      <th></th>\n",
       "      <th>mass</th>\n",
       "      <th>radius</th>\n",
       "    </tr>\n",
       "    <tr>\n",
       "      <th>granule_uid</th>\n",
       "      <th></th>\n",
       "      <th></th>\n",
       "    </tr>\n",
       "  </thead>\n",
       "  <tbody>\n",
       "    <tr>\n",
       "      <th>51 Eri b</th>\n",
       "      <td>2.60000</td>\n",
       "      <td>1.11000</td>\n",
       "    </tr>\n",
       "    <tr>\n",
       "      <th>51 Peg b</th>\n",
       "      <td>0.47000</td>\n",
       "      <td>1.90000</td>\n",
       "    </tr>\n",
       "    <tr>\n",
       "      <th>55 Cnc e</th>\n",
       "      <td>0.02703</td>\n",
       "      <td>0.17370</td>\n",
       "    </tr>\n",
       "    <tr>\n",
       "      <th>AU Mic b</th>\n",
       "      <td>0.03680</td>\n",
       "      <td>0.39080</td>\n",
       "    </tr>\n",
       "    <tr>\n",
       "      <th>AU Mic c</th>\n",
       "      <td>0.06980</td>\n",
       "      <td>0.31310</td>\n",
       "    </tr>\n",
       "    <tr>\n",
       "      <th>...</th>\n",
       "      <td>...</td>\n",
       "      <td>...</td>\n",
       "    </tr>\n",
       "    <tr>\n",
       "      <th>beta Pic b</th>\n",
       "      <td>11.90000</td>\n",
       "      <td>1.65000</td>\n",
       "    </tr>\n",
       "    <tr>\n",
       "      <th>beta Pic c</th>\n",
       "      <td>8.89000</td>\n",
       "      <td>1.20000</td>\n",
       "    </tr>\n",
       "    <tr>\n",
       "      <th>kappa And b</th>\n",
       "      <td>13.00000</td>\n",
       "      <td>1.20000</td>\n",
       "    </tr>\n",
       "    <tr>\n",
       "      <th>pi Men c</th>\n",
       "      <td>0.01142</td>\n",
       "      <td>0.16719</td>\n",
       "    </tr>\n",
       "    <tr>\n",
       "      <th>tau Boo A b</th>\n",
       "      <td>5.84000</td>\n",
       "      <td>1.06000</td>\n",
       "    </tr>\n",
       "  </tbody>\n",
       "</table>\n",
       "<p>1051 rows × 2 columns</p>\n",
       "</div>"
      ],
      "text/plain": [
       "                 mass   radius\n",
       "granule_uid                   \n",
       "51 Eri b      2.60000  1.11000\n",
       "51 Peg b      0.47000  1.90000\n",
       "55 Cnc e      0.02703  0.17370\n",
       "AU Mic b      0.03680  0.39080\n",
       "AU Mic c      0.06980  0.31310\n",
       "...               ...      ...\n",
       "beta Pic b   11.90000  1.65000\n",
       "beta Pic c    8.89000  1.20000\n",
       "kappa And b  13.00000  1.20000\n",
       "pi Men c      0.01142  0.16719\n",
       "tau Boo A b   5.84000  1.06000\n",
       "\n",
       "[1051 rows x 2 columns]"
      ]
     },
     "execution_count": 40,
     "metadata": {},
     "output_type": "execute_result"
    }
   ],
   "source": [
    "graf= tablafinal=pd.merge(left=y, right=x,how='inner', on='granule_uid')\n",
    "graf"
   ]
  },
  {
   "cell_type": "markdown",
   "id": "023f0cc2-0c27-49b9-94f6-09246d181898",
   "metadata": {},
   "source": [
    "Con la herramienta 'polyfit' encontramos entonces los parámetros de la recta. "
   ]
  },
  {
   "cell_type": "code",
   "execution_count": 52,
   "id": "b61878f7-6913-44e6-b192-253ead7e5fa3",
   "metadata": {},
   "outputs": [
    {
     "name": "stdout",
     "output_type": "stream",
     "text": [
      "La pendiente es a= 0.37771031071796707\n",
      " y la ordenada al origen esta dada por b= -0.062020909066556905\n"
     ]
    }
   ],
   "source": [
    "mod=np.polyfit(np.log(graf['mass']),np.log(graf['radius']),1)\n",
    "mod\n",
    "pendiente=mod[0]\n",
    "ordenada_al_origen=mod[1]\n",
    "\n",
    "print('La pendiente es a=', pendiente)\n",
    "print(' y la ordenada al origen esta dada por b=', ordenada_al_origen)\n",
    "\n",
    "#mostrar que la pendiente sigue el modelo que va como m proporcional a r al cubo"
   ]
  },
  {
   "cell_type": "markdown",
   "id": "3bb7d9f3-2dbd-4fd6-bdc5-341a20876989",
   "metadata": {},
   "source": [
    "Asumiendo una densidad constante en los planetas y sabiendo que la misma se relaciona con la masa y el volumen como $ \\rho= \\frac{masa}{volumen}$ , es razonable el valor obtenido para la pendiente, pues $ a^{-1}=2.70 $ y tenemos que la relación de potencias entre el radio y la masa está dada por $ Mjup \\propto R^3 $. "
   ]
  },
  {
   "cell_type": "code",
   "execution_count": 57,
   "id": "bd91cc9f-2e6d-42dd-aaec-efcc074ee62e",
   "metadata": {},
   "outputs": [
    {
     "data": {
      "image/png": "[encoded data removed]",
      "text/plain": [
       "<Figure size 432x288 with 1 Axes>"
      ]
     },
     "metadata": {
      "needs_background": "light"
     },
     "output_type": "display_data"
    }
   ],
   "source": [
    "#ajustamos el modelo.\n",
    "\n",
    "plt.plot(np.log(tablafinal2['mass']),np.log(tablafinal2['radius']),'o', color='k', markersize = 3) #gráfico de datos\n",
    "t=np.linspace(-9,4,50)\n",
    "plt.plot(t,mod[0]*t+mod[1]) #gráfico de modelo\n",
    "plt.xlabel('Masas [Mjup]')\n",
    "plt.ylabel('Radio[Rjup]')\n",
    "plt.title('R vs M.')\n",
    "\n",
    "plt.show()\n"
   ]
  },
  {
   "cell_type": "markdown",
   "id": "5ba27c07-0585-4015-ac14-90397e0f9654",
   "metadata": {},
   "source": [
    "### 3. Conclusión."
   ]
  },
  {
   "cell_type": "markdown",
   "id": "00873f8b-7282-4923-9c62-536ded5743a5",
   "metadata": {},
   "source": [
    "Con las herramientas utilizadas para el manejo de la base de datos logramos analizar y obtener diferentes resultados para las propiedades de los sistemas estrella-planeta. Por un lado observamos que estamos limitados instrumentalmente por las técnicas de detección, por otro lado notamos que la distribución de la distancia estrella-planeta no sigue una distribución gaussina, y finalmente, asumiendo que la densidad de los exoplanetas encontrados se mantiene constante, determinamos que la relación radio-masa sigue una ley de potencias que va como $ Mjup \\propto R^3 $. "
   ]
  },
  {
   "cell_type": "markdown",
   "id": "e3da8478-f693-459f-9d1d-5da09eaf40c0",
   "metadata": {},
   "source": [
    "### 4. Referencias. "
   ]
  },
  {
   "cell_type": "markdown",
   "id": "67ed8c37-4ec9-4acb-ae75-3db62c9a3079",
   "metadata": {},
   "source": [
    "(1)Guías para Pandas: [Property DataFrame.loc](https://pandas.pydata.org/docs/reference/api/pandas.DataFrame.loc.html)\n",
    ";[PANDAS-manipulación de datos con Python](https://joserzapata.github.io/courses/python-ciencia-datos/pandas/)"
   ]
  },
  {
   "cell_type": "markdown",
   "id": "a1745cf6-990e-48f7-9c3e-e3e65889bc63",
   "metadata": {},
   "source": [
    "(2)Guías para Python: [Manejo de matrices](https://www.codigopiton.com/obtener-columna-de-matriz-en-python/); [Visualización de datos con Python](https://joserzapata.github.io/courses/python-ciencia-datos/visualizacion/); [Graficar en Python con Matplotlib y NumPy](https://numython.github.io/posts/2016/02/graficar-en-python-con-matplotlib-y/)"
   ]
  },
  {
   "cell_type": "markdown",
   "id": "cdd190e1-e95a-4625-8f1c-8357f8ef05c6",
   "metadata": {},
   "source": [
    "(3)Tutorial base de datos [exoplanet.eu](http://exoplanet.eu/API/)"
   ]
  }
 ],
 "metadata": {
  "kernelspec": {
   "display_name": "Python 3 (ipykernel)",
   "language": "python",
   "name": "python3"
  },
  "language_info": {
   "codemirror_mode": {
    "name": "ipython",
    "version": 3
   },
   "file_extension": ".py",
   "mimetype": "text/x-python",
   "name": "python",
   "nbconvert_exporter": "python",
   "pygments_lexer": "ipython3",
   "version": "3.9.12"
  }
 },
 "nbformat": 4,
 "nbformat_minor": 5
}
